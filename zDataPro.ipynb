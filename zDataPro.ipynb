{
 "cells": [
  {
   "cell_type": "code",
   "execution_count": null,
   "metadata": {},
   "outputs": [],
   "source": [
    "import pandas as pd\n",
    "import matplotlib.pyplot as plt\n",
    "df=pd.read_csv('Dataset/Baby/BabyPre.csv')"
   ]
  },
  {
   "cell_type": "code",
   "execution_count": null,
   "metadata": {},
   "outputs": [],
   "source": [
    "def f(row):\n",
    "    val = (row['Group_number']-1)*10+row['Trial_number']\n",
    "    return val\n",
    "df['No.'] = df.apply(f, axis=1)\n",
    "\n",
    "\n",
    "del df[\"Trial_number\"]\n",
    "del df[\"Group_number\"]\n",
    "del df[\"Position_number\"]"
   ]
  },
  {
   "cell_type": "code",
   "execution_count": null,
   "metadata": {},
   "outputs": [],
   "source": [
    "import numpy as np\n",
    "df['time差']=0.000\n",
    "df['time差'][1:]=np.diff(df['Time_stamp'])\n",
    "df1=df.loc[df.Component_number == 176]\n",
    "first=df1.groupby('No.').time差.head(1).index   #返回每个trail的第一个的索引\n",
    "df1.loc[first,'time差']=0 #把每个trail变的位置，时间差都变成0\n",
    "#df.groupby('No.').first().time差---检查一下 每一个确实都变成0了"
   ]
  },
  {
   "cell_type": "code",
   "execution_count": null,
   "metadata": {},
   "outputs": [],
   "source": [
    "df1['Time']=df1.groupby('No.').time差.cumsum() \n",
    "df1['VelocityNew'] =  df1['Velocity'] - 64\n",
    "df1['tempt']= df1['time差']*df1['VelocityNew']\n",
    "df1['Pos'] = df1.groupby('No.')['tempt'].cumsum()\n",
    "df1.groupby('No.').first()"
   ]
  },
  {
   "cell_type": "code",
   "execution_count": null,
   "metadata": {},
   "outputs": [],
   "source": [
    "df2=df1[df1['Pos']<5]\n",
    "#找出异常点的位置---df1[df1['Pos']>5].index\n",
    "plt.plot(df2['Pos'],'purple')\n",
    "plt.xlabel('t(ms)');plt.ylabel('Pos')"
   ]
  },
  {
   "cell_type": "code",
   "execution_count": null,
   "metadata": {},
   "outputs": [],
   "source": [
    "\n",
    "\n",
    "plt.figure(4)\n",
    "plt.subplot(2,3,1)\n",
    "\n",
    "plt.suptitle('Platter Position for 5 Baby scratches', fontsize=16)\n",
    "\n",
    "ax = plt.gca()\n",
    "df3 = df2.loc[(df2['No.'] ==1 )]\n",
    "df3.plot(kind='line',x='Time',y='Pos',ax=ax)\n",
    "\n",
    "\n",
    "plt.subplot(2,3,2)\n",
    "ax = plt.gca()\n",
    "df4 = df2.loc[(df2['No.'] ==2 )]\n",
    "df4.plot(kind='line',x='Time',y='Pos',ax=ax)\n",
    "\n",
    "\n",
    "plt.subplot(2,3,3)\n",
    "ax = plt.gca()\n",
    "df5 = df2.loc[(df2['No.'] ==3 )]\n",
    "df5.plot(kind='line',x='Time',y='Pos',ax=ax)\n",
    "\n",
    "plt.subplot(2,3,4)\n",
    "ax = plt.gca()\n",
    "df6 = df2.loc[(df2['No.'] ==4 )]\n",
    "df6.plot(kind='line',x='Time',y='Pos',ax=ax)\n",
    "\n",
    "\n",
    "plt.subplot(2,3,5)\n",
    "ax = plt.gca()\n",
    "df7 = df2.loc[(df2['No.'] ==5 )]\n",
    "df7.plot(kind='line',x='Time',y='Pos',ax=ax)\n",
    "\n"
   ]
  },
  {
   "cell_type": "code",
   "execution_count": null,
   "metadata": {},
   "outputs": [],
   "source": [
    "df1"
   ]
  },
  {
   "cell_type": "code",
   "execution_count": null,
   "metadata": {},
   "outputs": [],
   "source": [
    "df1.to_csv('NewestBaby.csv')"
   ]
  },
  {
   "cell_type": "markdown",
   "metadata": {},
   "source": [
    "    \n",
    "    \n",
    "    \n",
    "    \n",
    "    \n",
    "    从这里开始看就可以\n",
    "\n",
    "\n",
    "\n",
    "\n"
   ]
  },
  {
   "cell_type": "code",
   "execution_count": null,
   "metadata": {
    "scrolled": false
   },
   "outputs": [],
   "source": [
    "import pandas as pd\n",
    "import matplotlib.pyplot as plt\n",
    "import copy\n",
    "import math\n",
    "f1 = pd.read_csv('./Rawdata/ChirpPre.csv')\n",
    "f2 = pd.read_csv('./Rawdata/FlarePre.csv')\n",
    "f3 = pd.read_csv('./Rawdata/StabPre.csv')\n",
    "\n",
    "\n",
    "# f1 = pd.read_csv('Rawdata/ChirpPre.csv')\n",
    "# f2 = pd.read_csv('Rawdata/FlarePre.csv')\n",
    "# f3 = pd.read_csv('Rawdata/StabPre.csv')\n",
    "\n",
    "\n",
    "def f(row):\n",
    "    val = (row['Group_number'] - 1) * 10 + row['Trial_number']\n",
    "    return val\n",
    "\n",
    "\n",
    "f1['No.'] = f1.apply(f, axis=1)\n",
    "f2['No.'] = f2.apply(f, axis=1)\n",
    "f3['No.'] = f3.apply(f, axis=1)\n",
    "\n",
    "\n",
    "def shanchu(x):\n",
    "    del x[\"Trial_number\"]\n",
    "    del x[\"Group_number\"]\n",
    "    del x[\"Position_number\"]\n",
    "    return x\n",
    "\n",
    "\n",
    "# f1=shanchu(f1)\n",
    "# f2=shanchu(f2)\n",
    "# f3=shanchu(f3)\n",
    "import numpy as np\n",
    "from itertools import groupby\n",
    "\n",
    "\n",
    "def get_data(raw_data, component_num):\n",
    "    result = []\n",
    "    for idx, row in f1.iterrows():\n",
    "        if row['Component_number'] == component_num:\n",
    "            result.append(row)\n",
    "    result2 = []\n",
    "    result2.append(result[0])\n",
    "    for i  in range(1, int(len(result))):\n",
    "        if result[i]['Time_stamp'] == result2[-1]['Time_stamp']:\n",
    "            pass\n",
    "        else:\n",
    "            result2.append(result[i])\n",
    "    return result2\n",
    "\n",
    "\n",
    "def print_data(data_for_182, i):\n",
    "    print('Component_number', 'Position_number', 'Time_stamp')\n",
    "    print(data_for_182[i]['Component_number'], data_for_182[i]['Position_number'], data_for_182[i]['Time_stamp'])\n",
    "\n",
    "\n",
    "# 3. 取类别每组的最大time stamp\n",
    "def get_each_type_of_group_max_time_stamp(data):\n",
    "    max_time_stamp_by_group = []\n",
    "    time_stamp_group = groupby(data, key=lambda x: x['No.'])\n",
    "    for key, group in time_stamp_group:\n",
    "        g = list(group)\n",
    "        max_value = max(g, key=lambda item: item[3])\n",
    "        max_time_stamp_by_group.append(max_value['Time_stamp'])\n",
    "    return max_time_stamp_by_group\n",
    "\n",
    "\n",
    "def data_pro(data):\n",
    "    # 1. 得到组件数据\n",
    "    data_for_182 = get_data(data, 182)\n",
    "    data_for_176 = get_data(data, 176)\n",
    "\n",
    "    # 2. 计算position 并 取一行\n",
    "    data_uniq_for_182 = []\n",
    "    \n",
    "    for i in range(0, int(len(data_for_182)), 2):\n",
    "        x = data_for_182[i]['Velocity']\n",
    "        y = data_for_182[i + 1]['Velocity']\n",
    "        pos = (x + y / 128) / 100\n",
    "        data_for_182[i]['Position'] =  pos\n",
    "        data_for_182[i + 1]['Position'] = pos\n",
    "        data_uniq_for_182.append(data_for_182[i])\n",
    "\n",
    "#     for i in range(len(data_uniq_for_182)):\n",
    "#         print(list(data_uniq_for_182[i]))\n",
    "    data_uniq_for_176 = []\n",
    "    sum_data = 0\n",
    "    no = 1\n",
    "    for i in range(1, len(data_for_176) - 1, 1):\n",
    "        if i == 1:\n",
    "            data_for_176[0]['Position'] = 0\n",
    "            data_uniq_for_176.append(data_for_176[0])\n",
    "        if data_for_176[i]['No.'] == no:\n",
    "            vel = data_for_176[i]['Velocity']\n",
    "            pos = (int(vel) - 64) * (float(data_for_176[i]['Time_stamp']) - float(data_for_176[i-1]['Time_stamp']))\n",
    "            data_for_176[i]['Position'] = sum_data + pos\n",
    "            sum_data += pos\n",
    "            data_uniq_for_176.append(data_for_176[i])\n",
    "        else:\n",
    "            sum_data = 0\n",
    "            vel = data_for_176[i]['Velocity']\n",
    "            pos = (int(vel) - 64) * (float(data_for_176[i]['Time_stamp']) - float(data_for_176[i - 1]['Time_stamp']))\n",
    "            data_for_176[i]['Position'] = sum_data + pos\n",
    "            sum_data += pos\n",
    "            data_uniq_for_176.append(data_for_176[i])\n",
    "            no += 1\n",
    "\n",
    "    for i in range(len(data_uniq_for_176)):\n",
    "        print(list(data_uniq_for_176[i]))\n",
    "    # 融合每组数据\n",
    "    list_group = []\n",
    "    for i in range(50):\n",
    "        no = i + 1\n",
    "        group = []\n",
    "        group_182 = []\n",
    "        group_176 = []\n",
    "        for j in range(len(data_uniq_for_182)):\n",
    "            if data_uniq_for_182[j]['No.'] == no:\n",
    "                group.append(data_uniq_for_182[j])\n",
    "                group_182.append(data_uniq_for_182[j])\n",
    "        for j in range(len(data_uniq_for_176)):\n",
    "            if data_uniq_for_176[j]['No.'] == no:\n",
    "                group.append(data_uniq_for_176[j])\n",
    "                group_176.append(data_uniq_for_176[j])\n",
    "\n",
    "        group_182.sort(key=lambda x: x['Time_stamp'])\n",
    "        group_176.sort(key=lambda x: x['Time_stamp'])\n",
    "        group.sort(key=lambda x: x['Time_stamp'])\n",
    "\n",
    "        first = group[0]\n",
    "        start_time = min(group_182[0]['Time_stamp'], group_176[0]['Time_stamp'])\n",
    "        step = 0.001\n",
    "        end_182 = len(group_182) - 1\n",
    "        end_176 = len(group_176) - 1\n",
    "        end_time = max(group_182[end_182]['Time_stamp'], group_176[end_176]['Time_stamp'])\n",
    "\n",
    "        result = []\n",
    "        m = 0\n",
    "        n = 0\n",
    "        error = 0.0001\n",
    "        size = int((end_time - start_time) / step)\n",
    "        for v in range(size):\n",
    "            current_time = start_time + step * v\n",
    "            if math.isclose(group_176[m]['Time_stamp'],current_time) and math.isclose(group_182[n]['Time_stamp'], current_time):\n",
    "                result.append(group_176[m])\n",
    "                result.append(group_182[n])\n",
    "                if m + 1 < len(group_176):\n",
    "                    m += 1\n",
    "                if n + 1 < len(group_182):\n",
    "                    n += 1\n",
    "            \n",
    "            elif math.isclose(group_176[m]['Time_stamp'] ,current_time) and math.isclose(group_182[n]['Time_stamp'], current_time)== False:\n",
    "                result.append(group_176[m])\n",
    "                if m + 1 < len(group_176):\n",
    "                    m += 1\n",
    "                temp = copy.copy(group_182[n])\n",
    "                temp['Time_stamp'] = current_time\n",
    "                result.append(temp)\n",
    "            elif math.isclose(group_176[m]['Time_stamp'] ,current_time)==False and math.isclose(group_182[n]['Time_stamp'] ,current_time):\n",
    "                result.append(group_182[n])\n",
    "                if n + 1 < len(group_182):\n",
    "                    n += 1\n",
    "                temp = copy.copy(group_176[m])\n",
    "                temp['Time_stamp'] = current_time\n",
    "                result.append(temp)\n",
    "            else:\n",
    "                temp = copy.copy(group_176[m])\n",
    "                temp['Time_stamp'] = current_time\n",
    "                result.append(temp)\n",
    "\n",
    "                temp = copy.copy(group_182[n])\n",
    "                temp['Time_stamp'] = current_time\n",
    "                result.append(temp)\n",
    "            \n",
    "                \n",
    "\n",
    "\n",
    "        result.sort(key=lambda x: x['Time_stamp'])\n",
    "        for i in range(len(result)):\n",
    "            list_group.append(result[i])\n",
    "#         df = pd.DataFrame(result)\n",
    "#         print(df.head())\n",
    "    \n",
    "\n",
    "    return pd.DataFrame(list_group)\n",
    "\n",
    "\n",
    "cfChirp = data_pro(f1)\n",
    "\n",
    "\n",
    "print(cfChirp.head())\n",
    "cfChirp.to_csv('cfChirp_merge.csv')"
   ]
  },
  {
   "cell_type": "code",
   "execution_count": 12,
   "metadata": {},
   "outputs": [
    {
     "name": "stderr",
     "output_type": "stream",
     "text": [
      "/var/folders/f4/yjj__yrs769f3dxf7ldkynmr0000gn/T/ipykernel_98811/1435013551.py:3: UserWarning: Boolean Series key will be reindexed to match DataFrame index.\n",
      "  sub_df = df[['Time_stamp', 'Position','No.']][df['No.'] == 1][df['Component_number'] == 176]\n"
     ]
    },
    {
     "data": {
      "text/plain": [
       "<AxesSubplot:xlabel='Time_stamp'>"
      ]
     },
     "execution_count": 12,
     "metadata": {},
     "output_type": "execute_result"
    },
    {
     "data": {
      "image/png": "[encoded data removed]",
      "text/plain": [
       "<Figure size 432x288 with 1 Axes>"
      ]
     },
     "metadata": {
      "needs_background": "light"
     },
     "output_type": "display_data"
    }
   ],
   "source": [
    "import pandas as pd\n",
    "df = pd.read_csv('cfChirp_merge.csv')\n",
    "sub_df = df[['Time_stamp', 'Position','No.']][df['No.'] == 1][df['Component_number'] == 176]\n",
    "# save(sub_df,'cfchirp1.csv')\n",
    "ax = plt.gca()\n",
    "cf1 = sub_df.loc[(sub_df['No.'] ==1 )]\n",
    "cf1.plot(kind='line',x='Time_stamp',y='Position',ax=ax,label=\"pos\")"
   ]
  },
  {
   "cell_type": "code",
   "execution_count": 66,
   "metadata": {},
   "outputs": [
    {
     "name": "stderr",
     "output_type": "stream",
     "text": [
      "/var/folders/f4/yjj__yrs769f3dxf7ldkynmr0000gn/T/ipykernel_98811/266364956.py:5: UserWarning: Boolean Series key will be reindexed to match DataFrame index.\n",
      "  sub_df1 = df1[['Time_stamp', 'Position','No.']][df1['No.'] == no1][df1['Component_number'] == 182]\n",
      "/var/folders/f4/yjj__yrs769f3dxf7ldkynmr0000gn/T/ipykernel_98811/266364956.py:9: UserWarning: Boolean Series key will be reindexed to match DataFrame index.\n",
      "  sub_df2 = df2[['Time_stamp', 'Position','No.']][df2['No.'] == no2][df2['Component_number'] == 182]\n",
      "/var/folders/f4/yjj__yrs769f3dxf7ldkynmr0000gn/T/ipykernel_98811/266364956.py:19: UserWarning: Boolean Series key will be reindexed to match DataFrame index.\n",
      "  sub_df1 = df1[['Time_stamp', 'Position','No.']][df1['No.'] == no1][df1['Component_number'] == comp]\n",
      "/var/folders/f4/yjj__yrs769f3dxf7ldkynmr0000gn/T/ipykernel_98811/266364956.py:23: UserWarning: Boolean Series key will be reindexed to match DataFrame index.\n",
      "  sub_df2 = df2[['Time_stamp', 'Position','No.']][df2['No.'] == no2][df2['Component_number'] == comp]\n",
      "/var/folders/f4/yjj__yrs769f3dxf7ldkynmr0000gn/T/ipykernel_98811/266364956.py:19: UserWarning: Boolean Series key will be reindexed to match DataFrame index.\n",
      "  sub_df1 = df1[['Time_stamp', 'Position','No.']][df1['No.'] == no1][df1['Component_number'] == comp]\n",
      "/var/folders/f4/yjj__yrs769f3dxf7ldkynmr0000gn/T/ipykernel_98811/266364956.py:23: UserWarning: Boolean Series key will be reindexed to match DataFrame index.\n",
      "  sub_df2 = df2[['Time_stamp', 'Position','No.']][df2['No.'] == no2][df2['Component_number'] == comp]\n"
     ]
    }
   ],
   "source": [
    "import pandas as pd\n",
    "import tslearn.metrics as ts\n",
    "def align_gen(file1,no1,file2,no2):\n",
    "    df1 = pd.read_csv(file1)\n",
    "    sub_df1 = df1[['Time_stamp', 'Position','No.']][df1['No.'] == no1][df1['Component_number'] == 182]\n",
    "    pos1 = sub_df1.iloc[:,1].values\n",
    "    pos1 = pos1 - pos1[0]\n",
    "    # 让pos都从0开始，为了消除之前第二组会从第一组的最后一个数开始算的影响\n",
    "    df2 = pd.read_csv(file2)\n",
    "    sub_df2 = df2[['Time_stamp', 'Position','No.']][df2['No.'] == no2][df2['Component_number'] == 182]\n",
    "    pos2 = sub_df2.iloc[:,1].values\n",
    "    os2 = pos2 - pos2[0]\n",
    "    align, dist = ts.dtw_path(pos1,pos2)\n",
    "    # 这个是求相似程度的函数，align是怎么把两组数据变形，dist是相似程度的指标\n",
    "    # https://tslearn.readthedocs.io/en/latest/gen_modules/metrics/tslearn.metrics.dtw_path.html\n",
    "    return align\n",
    "    # 读取test和train的182数据，然后求出让两组数据最相合的alignment（可以理解为在适当的地方延长来让他俩长的一样）\n",
    "\n",
    "a = align_gen('cfChirp_merge.csv',1,'cfChirp_merge.csv',4)\n",
    "# 记录这个变形方法，就是两组数据分别哪里需要延长\n",
    "\n",
    "def align_project(align,file1,no1,file2,no2,comp):\n",
    "    df1 = pd.read_csv(file1)\n",
    "    sub_df1 = df1[['Time_stamp', 'Position','No.']][df1['No.'] == no1][df1['Component_number'] == comp]\n",
    "    pos1 = sub_df1.iloc[:,1].values\n",
    "    pos1 = pos1 - pos1[0]\n",
    "    df2 = pd.read_csv(file2)\n",
    "    sub_df2 = df2[['Time_stamp', 'Position','No.']][df2['No.'] == no2][df2['Component_number'] == comp]\n",
    "    pos2 = sub_df2.iloc[:,1].values\n",
    "    pos2 = pos2 - pos2[0]\n",
    "    alignedp1 = []\n",
    "    alignedp2 = []\n",
    "    for i in range(0,len(a)):\n",
    "        alignedp1.append(pos1[a[i][0]])\n",
    "        alignedp2.append(pos2[a[i][1]])\n",
    "    return pos1,pos2,alignedp1,alignedp2\n",
    "    # 把这个变形方法应用到同一个test和train的176的数据上\n",
    "    # align里面长这样：（0，0），（0，1）就表示第一项和第一项对应，test的第一项和train的第二项也对应，所以就把test的第一项延长\n",
    "    # 可以看一下下面的图，变形之后两个pos会变成一样长，而且都比原来长\n",
    "    \n",
    "\n",
    "pos1,pos2,p1,p2 = align_project(a,'cfChirp_merge.csv',1,'cfChirp_merge.csv',4,176)\n",
    "pos11,pos22,p11,p22 = align_project(a,'cfChirp_merge.csv',1,'cfChirp_merge.csv',4,182)\n",
    "\n",
    "dist = ts.dtw(p1,p2)\n",
    "# 计算出176的数据按同样的方法变形后，相差多少（长得有多像），这个dist越小说明越像\n"
   ]
  },
  {
   "cell_type": "code",
   "execution_count": 67,
   "metadata": {},
   "outputs": [
    {
     "data": {
      "text/plain": [
       "4.627286894066835"
      ]
     },
     "execution_count": 67,
     "metadata": {},
     "output_type": "execute_result"
    }
   ],
   "source": [
    "dist"
   ]
  },
  {
   "cell_type": "code",
   "execution_count": 63,
   "metadata": {},
   "outputs": [
    {
     "data": {
      "text/plain": [
       "Text(0.5, 1.0, 'Original')"
      ]
     },
     "execution_count": 63,
     "metadata": {},
     "output_type": "execute_result"
    },
    {
     "data": {
      "image/png": "[encoded data removed]",
      "text/plain": [
       "<Figure size 576x180 with 2 Axes>"
      ]
     },
     "metadata": {
      "needs_background": "light"
     },
     "output_type": "display_data"
    }
   ],
   "source": [
    "import matplotlib.pyplot as plt\n",
    "# x = range(len(p1))\n",
    "# subplot(1,2,1)\n",
    "# plt.plot(p1)\n",
    "# plt.plot(p2)\n",
    "# plt.show()\n",
    "fig, axes = plt.subplots(ncols=2, figsize=(8, 2.5))\n",
    "ax = axes.ravel()\n",
    "ax[0] = plt.subplot(1, 2, 1)\n",
    "ax[1] = plt.subplot(1, 2, 2, sharex=ax[0], sharey=ax[0])\n",
    "\n",
    "ax[0].plot(p1)\n",
    "ax[0].plot(p2)\n",
    "ax[0].set_title('Aligned')\n",
    "\n",
    "\n",
    "\n",
    "ax[1].plot(pos1)\n",
    "ax[1].plot(pos2)\n",
    "ax[1].set_title('Original')\n"
   ]
  },
  {
   "cell_type": "code",
   "execution_count": 64,
   "metadata": {},
   "outputs": [
    {
     "data": {
      "text/plain": [
       "Text(0.5, 1.0, 'Original')"
      ]
     },
     "execution_count": 64,
     "metadata": {},
     "output_type": "execute_result"
    },
    {
     "data": {
      "image/png": "[encoded data removed]",
      "text/plain": [
       "<Figure size 576x180 with 2 Axes>"
      ]
     },
     "metadata": {
      "needs_background": "light"
     },
     "output_type": "display_data"
    }
   ],
   "source": [
    "\n",
    "fig, axes = plt.subplots(ncols=2, figsize=(8, 2.5))\n",
    "ax = axes.ravel()\n",
    "ax[0] = plt.subplot(1, 2, 1)\n",
    "ax[1] = plt.subplot(1, 2, 2, sharex=ax[0], sharey=ax[0])\n",
    "\n",
    "ax[0].plot(p11)\n",
    "ax[0].plot(p22)\n",
    "ax[0].set_title('Aligned')\n",
    "\n",
    "\n",
    "\n",
    "ax[1].plot(pos11)\n",
    "ax[1].plot(pos22)\n",
    "ax[1].set_title('Original')\n"
   ]
  },
  {
   "cell_type": "code",
   "execution_count": 65,
   "metadata": {},
   "outputs": [
    {
     "data": {
      "text/plain": [
       "[<matplotlib.lines.Line2D at 0x7fbae88eef70>,\n",
       " <matplotlib.lines.Line2D at 0x7fbae88eb0a0>]"
      ]
     },
     "execution_count": 65,
     "metadata": {},
     "output_type": "execute_result"
    },
    {
     "data": {
      "image/png": "[encoded data removed]",
      "text/plain": [
       "<Figure size 432x288 with 1 Axes>"
      ]
     },
     "metadata": {
      "needs_background": "light"
     },
     "output_type": "display_data"
    }
   ],
   "source": [
    "plt.plot(a)"
   ]
  },
  {
   "cell_type": "code",
   "execution_count": 13,
   "metadata": {},
   "outputs": [
    {
     "name": "stderr",
     "output_type": "stream",
     "text": [
      "/var/folders/f4/yjj__yrs769f3dxf7ldkynmr0000gn/T/ipykernel_98811/3099760239.py:3: UserWarning: Boolean Series key will be reindexed to match DataFrame index.\n",
      "  sub_df = df[['Time_stamp', 'Position','No.']][df['No.'] == 1][df['Component_number'] == 182]\n"
     ]
    },
    {
     "data": {
      "text/plain": [
       "<AxesSubplot:xlabel='Time_stamp'>"
      ]
     },
     "execution_count": 13,
     "metadata": {},
     "output_type": "execute_result"
    },
    {
     "data": {
      "image/png": "[encoded data removed]",
      "text/plain": [
       "<Figure size 432x288 with 1 Axes>"
      ]
     },
     "metadata": {
      "needs_background": "light"
     },
     "output_type": "display_data"
    }
   ],
   "source": [
    "import pandas as pd\n",
    "df = pd.read_csv('cfChirp_merge.csv')\n",
    "sub_df = df[['Time_stamp', 'Position','No.']][df['No.'] == 1][df['Component_number'] == 182]\n",
    "# save(sub_df,'cfchirp1.csv')\n",
    "ax = plt.gca()\n",
    "cf1 = sub_df.loc[(sub_df['No.'] ==1 )]\n",
    "cf1.plot(kind='line',x='Time_stamp',y='Position',ax=ax,label=\"pos\")"
   ]
  },
  {
   "cell_type": "code",
   "execution_count": null,
   "metadata": {},
   "outputs": [],
   "source": [
    "# cfChirp\n",
    "del cfChirp['Velocity']\n",
    "del cfChirp['Position_number']\n",
    "del cfChirp['Trial_number']\n",
    "del cfChirp['Group_number']\n",
    "del cfChirp['time差']\n",
    "del cfChirp['VelocityNew']\n",
    "del cfChirp['tempt']\n",
    "cfChirp"
   ]
  },
  {
   "cell_type": "code",
   "execution_count": null,
   "metadata": {},
   "outputs": [],
   "source": [
    "del plChirp['Velocity']\n",
    "del plChirp['Position_number']\n",
    "del plChirp['Trial_number']\n",
    "del plChirp['Group_number']\n",
    "del plChirp['time差']\n",
    "del plChirp['VelocityNew']\n",
    "del plChirp['tempt']\n",
    "plChirp"
   ]
  },
  {
   "cell_type": "markdown",
   "metadata": {},
   "source": [
    "    需求：1) 根据原表，找到每一个No.对应的Max(Time_Stamp)  \n",
    "            比如 Max(Time_Stamp_cfChirp)= 0.34，Max(Time_Stamp_plChirp)=0.448 \n",
    "                ---->  Max(Time_Stamp)=0.448\n",
    "         1）让Time_Stamp列的间隔为0.001, 且都从0.000开始\n",
    "         2）每一个No.补充到Max(Time_Stamp) \n",
    "         3) 每个时间出现1次,如果没有对应Time_Stamp的Pos\n",
    "                                 0开始：填上最近的下一个Pos的值\n",
    "                                 其他：保持上一时刻的值\n",
    "         4) 每个存两个新的csv ，有Time_Stamp     No.        Pos 三列 \n",
    "                 ----->分别名为cfChirpNew，plChirpNew\n",
    "                 ----->分别名为cfFlareNew，plFlareNew\n",
    "                 ----->分别名为cfStabNew，plStabNew\n",
    "         * 务必确保每一对的两个csv有同样的行数，共6个。\n",
    "         \n",
    "         \n",
    "        举例：\n",
    "        \n",
    "    cfChirpNew      Time_Stamp     No         Pos                       \n",
    "                    0.000           1         1.149766        \n",
    "                    0.001           1         1.149766\n",
    "                    0.002           1         1.149766\n",
    "                    0.003           1         1.149766\n",
    "                    .               1         1.149766\n",
    "                    .               1         1.149766\n",
    "                    .               1         1.149766\n",
    "                    0.061           1         1.149766\n",
    "                    0.062           1         1.154844\n",
    "                    .               .         .\n",
    "                    .               .         .\n",
    "                    .               .         .\n",
    "                    .               .         .\n",
    "                    0.000           2         .\n",
    "                    0.001           2         .\n",
    "                    0.002           2         .\n",
    "                    0.003           2         .\n",
    "                    .               .         .\n",
    "                    .               .         .\n",
    "                    .               .         .\n",
    "                    .               .         .\n",
    "                    0.343           50        1.052188\n",
    "                    0.344           50        1.052188\n",
    "                    .               50        1.052188\n",
    "                    .               50        1.052188\n",
    "                    0.448           50        1.052188\n",
    "                    \n",
    "                    \n",
    "                    \n",
    "    plChirpNew      Time_Stamp     No         Pos                       \n",
    "                    0.000           1         0.000       \n",
    "                    0.001           1         0.003\n",
    "                    0.002           1         0.007\n",
    "                    0.003           1         0.010\n",
    "                    .               .         .\n",
    "                    .               .         .\n",
    "                    0.000           2         .\n",
    "                    0.001           2         .\n",
    "                    0.002           2         .\n",
    "                    0.003           2         .\n",
    "                    .               .         .\n",
    "                    .               .         .\n",
    "                    .               .         .\n",
    "                    .               .         .\n",
    "                    .               .         .\n",
    "                    0.445           50        0.481\n",
    "                    0.446           50        0.481\n",
    "                    0.447           50        0.483\n",
    "                    0.448           50        0.484"
   ]
  },
  {
   "cell_type": "code",
   "execution_count": null,
   "metadata": {},
   "outputs": [],
   "source": [
    "\n",
    "df = pd.read_csv('cfChirp.csv')\n",
    "sub_df = df[['Time_stamp', 'Pos','No.']][df['No.'] == 1]\n",
    "\n",
    "# save(sub_df,'cfchirp1.csv')\n",
    "ax = plt.gca()\n",
    "cf1 = sub_df.loc[(sub_df['No.'] ==1 )]\n",
    "cf1.plot(kind='line',x='Time_stamp',y='Pos',ax=ax,label=\"cf\")"
   ]
  },
  {
   "cell_type": "code",
   "execution_count": null,
   "metadata": {},
   "outputs": [],
   "source": [
    "df = pd.read_csv('plChirp.csv')\n",
    "sub_df = df[['Time_stamp', 'Pos','No.']][df['No.'] == 1]\n",
    "# save(sub_df,'cfchirp1.csv')\n",
    "ax = plt.gca()\n",
    "cf1 = sub_df.loc[(sub_df['No.'] ==1 )]\n",
    "cf1.plot(kind='line',x='Time_stamp',y='Pos',ax=ax,label=\"pl\")"
   ]
  },
  {
   "cell_type": "markdown",
   "metadata": {},
   "source": [
    "         可以画图检验"
   ]
  },
  {
   "cell_type": "markdown",
   "metadata": {},
   "source": [
    "          \n",
    "          \n",
    "          \n",
    "          不用往下看了\n",
    "          \n",
    "          \n",
    "          \n",
    "          "
   ]
  },
  {
   "cell_type": "code",
   "execution_count": null,
   "metadata": {},
   "outputs": [],
   "source": [
    "import pandas as pd\n",
    "df = pd.read_csv('cfChirp.csv', skipinitialspace=True, usecols=[4,12])\n",
    "df['dates'] = pd.to_datetime(df['Time_stamp'], unit='s')\n",
    "del df['Time_stamp']\n",
    "df = df.drop_duplicates(subset='dates', keep=\"first\")\n",
    "df"
   ]
  },
  {
   "cell_type": "code",
   "execution_count": null,
   "metadata": {},
   "outputs": [],
   "source": [
    "\n",
    "df = df.set_index('dates')\n",
    "df.Pos.resample('1L',loffset='61L').first().pad()[0:200]\n",
    "# interpolated = upsampled.interpolate(method='linear')\n",
    "# interpolated"
   ]
  },
  {
   "cell_type": "code",
   "execution_count": null,
   "metadata": {},
   "outputs": [],
   "source": [
    "cfChirp"
   ]
  },
  {
   "cell_type": "code",
   "execution_count": null,
   "metadata": {},
   "outputs": [],
   "source": [
    "def save(f,name):\n",
    "    f.to_csv(name)\n",
    "\n",
    "save(cfChirp,'cfChirp.csv')\n",
    "save(plChirp,'plChirp.csv')\n",
    "save(cfFlare,'cfFlare.csv')\n",
    "save(plFlare,'plFlare.csv')\n",
    "save(cfStab,'cfStab.csv')\n",
    "save(plStab,'plStab.csv')"
   ]
  },
  {
   "cell_type": "code",
   "execution_count": null,
   "metadata": {},
   "outputs": [],
   "source": [
    "plt.figure(1)\n",
    "plt.subplot(2,3,1)\n",
    "\n",
    "plt.suptitle('First 5 trails for Chirp', fontsize=16)\n",
    "\n",
    "ax = plt.gca()\n",
    "cf1 = cfChirp.loc[(cfChirp['No.'] ==1 )]\n",
    "cf1.plot(kind='line',x='Time_stamp',y='Pos',ax=ax,label=\"cf\")\n",
    "\n",
    "pl1 = plChirp.loc[(plChirp['No.'] ==1 )]\n",
    "pl1.plot(kind='line',x='Time_stamp',y='Pos',ax=ax,label=\"pl\")\n",
    "\n",
    "plt.subplot(2,3,2)\n",
    "ax = plt.gca()\n",
    "cf2 = cfChirp.loc[(cfChirp['No.'] ==2 )]\n",
    "cf2.plot(kind='line',x='Time_stamp',y='Pos',ax=ax,label=\"cf\")\n",
    "\n",
    "pl2 = plChirp.loc[(plChirp['No.'] ==2 )]\n",
    "pl2.plot(kind='line',x='Time_stamp',y='Pos',ax=ax,label=\"pl\")\n",
    "\n",
    "plt.subplot(2,3,3)\n",
    "ax = plt.gca()\n",
    "cf3 = cfChirp.loc[(cfChirp['No.'] ==3 )]\n",
    "cf3.plot(kind='line',x='Time_stamp',y='Pos',ax=ax,label=\"cf\")\n",
    "\n",
    "pl3 = plChirp.loc[(plChirp['No.'] ==3 )]\n",
    "pl3.plot(kind='line',x='Time_stamp',y='Pos',ax=ax,label=\"pl\")\n",
    "\n",
    "plt.subplot(2,3,4)\n",
    "ax = plt.gca()\n",
    "cf4 = cfChirp.loc[(cfChirp['No.'] ==4 )]\n",
    "cf4.plot(kind='line',x='Time_stamp',y='Pos',ax=ax,label=\"cf\")\n",
    "\n",
    "pl4 = plChirp.loc[(plChirp['No.'] ==4 )]\n",
    "pl4.plot(kind='line',x='Time_stamp',y='Pos',ax=ax,label=\"pl\")\n",
    "\n",
    "plt.subplot(2,3,5)\n",
    "ax = plt.gca()\n",
    "cf5 = cfChirp.loc[(cfChirp['No.'] ==5 )]\n",
    "cf5.plot(kind='line',x='Time_stamp',y='Pos',ax=ax,label=\"cf\")\n",
    "\n",
    "pl5 = plChirp.loc[(plChirp['No.'] ==5 )]\n",
    "pl5.plot(kind='line',x='Time_stamp',y='Pos',ax=ax,label=\"pl\")\n",
    "\n",
    "\n"
   ]
  },
  {
   "cell_type": "code",
   "execution_count": null,
   "metadata": {},
   "outputs": [],
   "source": [
    "plt.figure(2)\n",
    "plt.subplot(2,3,1)\n",
    "\n",
    "plt.suptitle('First 5 trails for Flare', fontsize=16)\n",
    "ax = plt.gca()\n",
    "cf1 = cfFlare.loc[(cfFlare['No.'] ==1 )]\n",
    "cf1.plot(kind='line',x='Time_stamp',y='Pos',ax=ax,label=\"cf\")\n",
    "\n",
    "pl1 = plFlare.loc[(plFlare['No.'] ==1 )]\n",
    "pl1.plot(kind='line',x='Time_stamp',y='Pos',ax=ax,label=\"pl\")\n",
    "\n",
    "plt.subplot(2,3,2)\n",
    "ax = plt.gca()\n",
    "cf2 = cfFlare.loc[(cfFlare['No.'] ==2 )]\n",
    "cf2.plot(kind='line',x='Time_stamp',y='Pos',ax=ax,label=\"cf\")\n",
    "\n",
    "pl2 = plFlare.loc[(plFlare['No.'] ==2 )]\n",
    "pl2.plot(kind='line',x='Time_stamp',y='Pos',ax=ax,label=\"pl\")\n",
    "\n",
    "plt.subplot(2,3,3)\n",
    "ax = plt.gca()\n",
    "cf3 = cfFlare.loc[(cfFlare['No.'] ==3 )]\n",
    "cf3.plot(kind='line',x='Time_stamp',y='Pos',ax=ax,label=\"cf\")\n",
    "\n",
    "pl3 = plFlare.loc[(plFlare['No.'] ==3 )]\n",
    "pl3.plot(kind='line',x='Time_stamp',y='Pos',ax=ax,label=\"pl\")\n",
    "\n",
    "plt.subplot(2,3,4)\n",
    "ax = plt.gca()\n",
    "cf4 = cfFlare.loc[(cfFlare['No.'] ==4 )]\n",
    "cf4.plot(kind='line',x='Time_stamp',y='Pos',ax=ax,label=\"cf\")\n",
    "\n",
    "pl4 = plFlare.loc[(plFlare['No.'] ==4 )]\n",
    "pl4.plot(kind='line',x='Time_stamp',y='Pos',ax=ax,label=\"pl\")\n",
    "\n",
    "plt.subplot(2,3,5)\n",
    "ax = plt.gca()\n",
    "cf5 = cfFlare.loc[(cfFlare['No.'] ==5 )]\n",
    "cf5.plot(kind='line',x='Time_stamp',y='Pos',ax=ax,label=\"cf\")\n",
    "\n",
    "pl5 = plFlare.loc[(plFlare['No.'] ==5 )]\n",
    "pl5.plot(kind='line',x='Time_stamp',y='Pos',ax=ax,label=\"pl\")"
   ]
  },
  {
   "cell_type": "code",
   "execution_count": null,
   "metadata": {},
   "outputs": [],
   "source": [
    "plt.figure(3)\n",
    "plt.subplot(2,3,1)\n",
    "\n",
    "plt.suptitle('First 5 trails for Stab', fontsize=16)\n",
    "\n",
    "ax = plt.gca()\n",
    "cf1 = cfStab.loc[(cfStab['No.'] ==1 )]\n",
    "cf1.plot(kind='line',x='Time_stamp',y='Pos',ax=ax,label=\"cf\")\n",
    "\n",
    "pl1 = plStab.loc[(plStab['No.'] ==1 )]\n",
    "pl1.plot(kind='line',x='Time_stamp',y='Pos',ax=ax,label=\"pl\")\n",
    "\n",
    "plt.subplot(2,3,2)\n",
    "ax = plt.gca()\n",
    "cf2 = cfStab.loc[(cfStab['No.'] ==2 )]\n",
    "cf2.plot(kind='line',x='Time_stamp',y='Pos',ax=ax,label=\"cf\")\n",
    "\n",
    "pl2 = plStab.loc[(plStab['No.'] ==2 )]\n",
    "pl2.plot(kind='line',x='Time_stamp',y='Pos',ax=ax,label=\"pl\")\n",
    "\n",
    "plt.subplot(2,3,3)\n",
    "ax = plt.gca()\n",
    "cf3 = cfStab.loc[(cfStab['No.'] ==3 )]\n",
    "cf3.plot(kind='line',x='Time_stamp',y='Pos',ax=ax,label=\"cf\")\n",
    "\n",
    "pl3 = plStab.loc[(plStab['No.'] ==3 )]\n",
    "pl3.plot(kind='line',x='Time_stamp',y='Pos',ax=ax,label=\"pl\")\n",
    "\n",
    "plt.subplot(2,3,4)\n",
    "ax = plt.gca()\n",
    "cf4 = cfStab.loc[(cfStab['No.'] ==4 )]\n",
    "cf4.plot(kind='line',x='Time_stamp',y='Pos',ax=ax,label=\"cf\")\n",
    "\n",
    "pl4 = plStab.loc[(plStab['No.'] ==4 )]\n",
    "pl4.plot(kind='line',x='Time_stamp',y='Pos',ax=ax,label=\"pl\")\n",
    "\n",
    "plt.subplot(2,3,5)\n",
    "ax = plt.gca()\n",
    "cf5 = cfStab.loc[(cfStab['No.'] ==5 )]\n",
    "cf5.plot(kind='line',x='Time_stamp',y='Pos',ax=ax,label=\"cf\")\n",
    "\n",
    "pl5 = plStab.loc[(plStab['No.'] ==5 )]\n",
    "pl5.plot(kind='line',x='Time_stamp',y='Pos',ax=ax,label=\"pl\")"
   ]
  },
  {
   "cell_type": "code",
   "execution_count": null,
   "metadata": {},
   "outputs": [],
   "source": [
    "plt.figure(4)\n",
    "plt.subplot(2,3,1)\n",
    "\n",
    "plt.suptitle('First 5 trails for Baby', fontsize=16)\n",
    "\n",
    "ax = plt.gca()\n",
    "bb1 = cfStab.loc[(cfStab['No.'] ==1 )]\n",
    "cf1.plot(kind='line',x='Time_stamp',y='Pos',ax=ax,label=\"cf\")\n",
    "\n",
    "pl1 = plStab.loc[(plStab['No.'] ==1 )]\n",
    "pl1.plot(kind='line',x='Time_stamp',y='Pos',ax=ax,label=\"pl\")\n",
    "\n",
    "plt.subplot(2,3,2)\n",
    "ax = plt.gca()\n",
    "cf2 = cfStab.loc[(cfStab['No.'] ==2 )]\n",
    "cf2.plot(kind='line',x='Time_stamp',y='Pos',ax=ax,label=\"cf\")\n",
    "\n",
    "pl2 = plStab.loc[(plStab['No.'] ==2 )]\n",
    "pl2.plot(kind='line',x='Time_stamp',y='Pos',ax=ax,label=\"pl\")\n",
    "\n",
    "plt.subplot(2,3,3)\n",
    "ax = plt.gca()\n",
    "cf3 = cfStab.loc[(cfStab['No.'] ==3 )]\n",
    "cf3.plot(kind='line',x='Time_stamp',y='Pos',ax=ax,label=\"cf\")\n",
    "\n",
    "pl3 = plStab.loc[(plStab['No.'] ==3 )]\n",
    "pl3.plot(kind='line',x='Time_stamp',y='Pos',ax=ax,label=\"pl\")\n",
    "\n",
    "plt.subplot(2,3,4)\n",
    "ax = plt.gca()\n",
    "cf4 = cfStab.loc[(cfStab['No.'] ==4 )]\n",
    "cf4.plot(kind='line',x='Time_stamp',y='Pos',ax=ax,label=\"cf\")\n",
    "\n",
    "pl4 = plStab.loc[(plStab['No.'] ==4 )]\n",
    "pl4.plot(kind='line',x='Time_stamp',y='Pos',ax=ax,label=\"pl\")\n",
    "\n",
    "plt.subplot(2,3,5)\n",
    "ax = plt.gca()\n",
    "cf5 = cfStab.loc[(cfStab['No.'] ==5 )]\n",
    "cf5.plot(kind='line',x='Time_stamp',y='Pos',ax=ax,label=\"cf\")\n",
    "\n",
    "pl5 = plStab.loc[(plStab['No.'] ==5 )]\n",
    "pl5.plot(kind='line',x='Time_stamp',y='Pos',ax=ax,label=\"pl\")"
   ]
  },
  {
   "cell_type": "code",
   "execution_count": null,
   "metadata": {},
   "outputs": [],
   "source": [
    "import subprocess\n",
    "\n",
    "import csv\n",
    "\n",
    "import pygame\n",
    "import pygame.midi\n",
    "import numpy as np\n",
    "import matplotlib.pyplot as plt\n",
    "from fastdtw import fastdtw\n",
    "from dtw import *\n",
    "\n",
    "from scipy.spatial.distance import euclidean\n",
    "\n",
    "def gen_array(cfChirp,n):\n",
    "    slice=cfChirp.loc[cfChirp['No.'] == n]\n",
    "    import numpy as np\n",
    "    pos=slice['Pos'].values\n",
    "    t = slice['Time_stamp'].values\n",
    "    dtw_array = np.stack((pos, t), axis=1)\n",
    "    return dtw_array\n",
    "\n",
    "a1 = gen_array(cfChirp,1)\n",
    "a2 = gen_array(cfChirp,2)\n",
    "\n",
    "dtw(a1, a2)"
   ]
  },
  {
   "cell_type": "code",
   "execution_count": null,
   "metadata": {},
   "outputs": [],
   "source": [
    "alignment = dtw(a1, a2, keep_internals=True)\n",
    "\n",
    "dtwPlotAlignment(alignment, xlab='a1', ylab='a2')"
   ]
  },
  {
   "cell_type": "code",
   "execution_count": null,
   "metadata": {},
   "outputs": [],
   "source": [
    "dtw(a1[:,0], a2[:,0], keep_internals=True, \n",
    "    step_pattern=rabinerJuangStepPattern(6, \"c\"))\\\n",
    "    .plot(type=\"twoway\",offset=-2)"
   ]
  },
  {
   "cell_type": "code",
   "execution_count": null,
   "metadata": {},
   "outputs": [],
   "source": [
    "countPaths(alignment, debug=False)"
   ]
  },
  {
   "cell_type": "code",
   "execution_count": null,
   "metadata": {},
   "outputs": [],
   "source": [
    "ds.distance"
   ]
  },
  {
   "cell_type": "code",
   "execution_count": null,
   "metadata": {},
   "outputs": [],
   "source": []
  },
  {
   "cell_type": "code",
   "execution_count": null,
   "metadata": {},
   "outputs": [],
   "source": [
    "def picture(data,name,c):  #数据、图片名字、颜色\n",
    "    plt.plot(data['Pos'],c)\n",
    "    plt.xlabel('t(ms)');plt.ylabel('Pos')\n",
    "    plt.title(name)\n",
    "    #plt.savefig(name+'.jpg')\n",
    "\n",
    "#picture(cfChirp,'cfChirp','blue')\n",
    "# picture(plChirp,'plChirp','purple')\n",
    "# picture(cfFlare,'cfFlare','blue')\n",
    "# picture(plFlare,'plFlare','purple')\n",
    "# picture(cfStab,'cfStab','blue')\n",
    "# picture(plStab,'plStab','purple')"
   ]
  },
  {
   "cell_type": "code",
   "execution_count": null,
   "metadata": {},
   "outputs": [],
   "source": [
    "picture(plChirp,'plChirp','purple')"
   ]
  },
  {
   "cell_type": "code",
   "execution_count": null,
   "metadata": {},
   "outputs": [],
   "source": [
    "picture(cfFlare,'cfFlare','blue')"
   ]
  },
  {
   "cell_type": "code",
   "execution_count": null,
   "metadata": {},
   "outputs": [],
   "source": [
    "picture(plFlare,'plFlare','purple')"
   ]
  },
  {
   "cell_type": "code",
   "execution_count": null,
   "metadata": {},
   "outputs": [],
   "source": [
    "picture(cfStab,'cfStab','blue')"
   ]
  },
  {
   "cell_type": "code",
   "execution_count": null,
   "metadata": {},
   "outputs": [],
   "source": [
    "picture(plStab,'plStab','purple')"
   ]
  },
  {
   "cell_type": "code",
   "execution_count": null,
   "metadata": {},
   "outputs": [],
   "source": []
  }
 ],
 "metadata": {
  "interpreter": {
   "hash": "aee8b7b246df8f9039afb4144a1f6fd8d2ca17a180786b69acc140d282b71a49"
  },
  "kernelspec": {
   "display_name": "Python 3.8.5 64-bit",
   "name": "python3"
  },
  "language_info": {
   "codemirror_mode": {
    "name": "ipython",
    "version": 3
   },
   "file_extension": ".py",
   "mimetype": "text/x-python",
   "name": "python",
   "nbconvert_exporter": "python",
   "pygments_lexer": "ipython3",
   "version": "3.8.5"
  }
 },
 "nbformat": 4,
 "nbformat_minor": 2
}
